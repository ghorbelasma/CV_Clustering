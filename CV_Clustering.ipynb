{
 "cells": [
  {
   "cell_type": "markdown",
   "metadata": {},
   "source": [
    "## Contexte de l’analyse\n",
    "\n",
    "Elu métier le plus sexy par la Harvard Business Review en octobre 2012, le data scientist représente un profil rare qui exige de nombreuses compétences.\n",
    "\n",
    "A partir d'un dataset de plusieurs profils dans le domaine de Data, on va:\n",
    "\n",
    "- explorer les données \n",
    "- faire un clustering non supervisé afin d'identifier 2 groupes de profils techniques distinctes\n",
    "\n",
    "\n",
    "\n",
    "## Données\n",
    "data.csv contient 6 variables : \n",
    "    - 'Entreprise' correspond à une liste d'entreprises fictive\n",
    "    - 'Metier' correspond au métier parmi data scientist, lead data scientist, data engineer et data architecte\n",
    "    - 'Technologies' correspond aux compétences maîtrisées par le profil\n",
    "    - 'Diplome' correspond à son niveau scolaire (Bac, Master, PhD,...)\n",
    "    - 'Experience' correspond au nombre d'années d'expériences\n",
    "    - 'Ville' correspond au lieu de travail\n",
    " "
   ]
  },
  {
   "cell_type": "code",
   "execution_count": 1,
   "metadata": {},
   "outputs": [],
   "source": [
    "# Import des libraries classique (numpy, pandas, ...)\n",
    "import pandas as pd\n",
    "import numpy as np\n",
    "import re\n",
    "import sklearn as sk\n",
    "import seaborn as sb\n",
    "from matplotlib import pyplot as plt\n",
    "plt.style.use('ggplot')\n",
    "from sklearn.feature_extraction.text import TfidfVectorizer\n",
    "from sklearn.cluster import KMeans"
   ]
  },
  {
   "cell_type": "markdown",
   "metadata": {},
   "source": [
    "### 1) Importer le tableau de données dans un dataframe "
   ]
  },
  {
   "cell_type": "code",
   "execution_count": 3,
   "metadata": {},
   "outputs": [
    {
     "data": {
      "text/plain": [
       "(9582, 6)"
      ]
     },
     "execution_count": 3,
     "metadata": {},
     "output_type": "execute_result"
    }
   ],
   "source": [
    "# Import du dataframe \"data.csv\"\n",
    "df = pd.read_csv('data.csv')\n",
    "df.shape"
   ]
  },
  {
   "cell_type": "code",
   "execution_count": 4,
   "metadata": {},
   "outputs": [
    {
     "data": {
      "text/plain": [
       "Entreprise      object\n",
       "Metier          object\n",
       "Technologies    object\n",
       "Diplome         object\n",
       "Experience      object\n",
       "Ville           object\n",
       "dtype: object"
      ]
     },
     "execution_count": 4,
     "metadata": {},
     "output_type": "execute_result"
    }
   ],
   "source": [
    "df.dtypes"
   ]
  },
  {
   "cell_type": "markdown",
   "metadata": {},
   "source": [
    "### 2) Combien y a t-il d'observations dans ce dataset? Y a t-il des valeurs manquantes? "
   ]
  },
  {
   "cell_type": "code",
   "execution_count": 5,
   "metadata": {},
   "outputs": [
    {
     "data": {
      "text/html": [
       "<div>\n",
       "<style scoped>\n",
       "    .dataframe tbody tr th:only-of-type {\n",
       "        vertical-align: middle;\n",
       "    }\n",
       "\n",
       "    .dataframe tbody tr th {\n",
       "        vertical-align: top;\n",
       "    }\n",
       "\n",
       "    .dataframe thead th {\n",
       "        text-align: right;\n",
       "    }\n",
       "</style>\n",
       "<table border=\"1\" class=\"dataframe\">\n",
       "  <thead>\n",
       "    <tr style=\"text-align: right;\">\n",
       "      <th></th>\n",
       "      <th>Entreprise</th>\n",
       "      <th>Metier</th>\n",
       "      <th>Technologies</th>\n",
       "      <th>Diplome</th>\n",
       "      <th>Experience</th>\n",
       "      <th>Ville</th>\n",
       "    </tr>\n",
       "  </thead>\n",
       "  <tbody>\n",
       "    <tr>\n",
       "      <th>0</th>\n",
       "      <td>Sanofi</td>\n",
       "      <td>Data scientist</td>\n",
       "      <td>Matlab/Python/Pyspark/Scikit-learn/Tensorflow</td>\n",
       "      <td>Master</td>\n",
       "      <td>1</td>\n",
       "      <td>Paris</td>\n",
       "    </tr>\n",
       "    <tr>\n",
       "      <th>1</th>\n",
       "      <td>Massachusetts General Hospital(MGH)</td>\n",
       "      <td>Data architecte</td>\n",
       "      <td>Python/Java/Scala/MongoDB</td>\n",
       "      <td>Master</td>\n",
       "      <td>3</td>\n",
       "      <td>Marseille</td>\n",
       "    </tr>\n",
       "    <tr>\n",
       "      <th>2</th>\n",
       "      <td>Delve</td>\n",
       "      <td>Lead data scientist</td>\n",
       "      <td>SPSS/SQL/Teradata/R/Python/Tensorflow/scikit-l...</td>\n",
       "      <td>Master</td>\n",
       "      <td>3</td>\n",
       "      <td>Nantes</td>\n",
       "    </tr>\n",
       "    <tr>\n",
       "      <th>3</th>\n",
       "      <td>Ann &amp; Robert H. Lurie Children’s Hospital of C...</td>\n",
       "      <td>Data scientist</td>\n",
       "      <td>C/C++/Java/Python</td>\n",
       "      <td>Master</td>\n",
       "      <td>1,5</td>\n",
       "      <td>Marseille</td>\n",
       "    </tr>\n",
       "    <tr>\n",
       "      <th>4</th>\n",
       "      <td>Arm</td>\n",
       "      <td>Data scientist</td>\n",
       "      <td>Matlab/Python/C++/numpy/Tensorflow/scikit-learn</td>\n",
       "      <td>Phd</td>\n",
       "      <td>NaN</td>\n",
       "      <td>Bordeaux</td>\n",
       "    </tr>\n",
       "  </tbody>\n",
       "</table>\n",
       "</div>"
      ],
      "text/plain": [
       "                                          Entreprise               Metier  \\\n",
       "0                                             Sanofi       Data scientist   \n",
       "1                Massachusetts General Hospital(MGH)      Data architecte   \n",
       "2                                              Delve  Lead data scientist   \n",
       "3  Ann & Robert H. Lurie Children’s Hospital of C...       Data scientist   \n",
       "4                                                Arm       Data scientist   \n",
       "\n",
       "                                        Technologies Diplome Experience  \\\n",
       "0      Matlab/Python/Pyspark/Scikit-learn/Tensorflow  Master          1   \n",
       "1                          Python/Java/Scala/MongoDB  Master          3   \n",
       "2  SPSS/SQL/Teradata/R/Python/Tensorflow/scikit-l...  Master          3   \n",
       "3                                  C/C++/Java/Python  Master        1,5   \n",
       "4    Matlab/Python/C++/numpy/Tensorflow/scikit-learn     Phd        NaN   \n",
       "\n",
       "       Ville  \n",
       "0      Paris  \n",
       "1  Marseille  \n",
       "2     Nantes  \n",
       "3  Marseille  \n",
       "4   Bordeaux  "
      ]
     },
     "execution_count": 5,
     "metadata": {},
     "output_type": "execute_result"
    }
   ],
   "source": [
    "df.head()"
   ]
  },
  {
   "cell_type": "code",
   "execution_count": 6,
   "metadata": {},
   "outputs": [
    {
     "name": "stdout",
     "output_type": "stream",
     "text": [
      "Il y a 9582 observations\n"
     ]
    }
   ],
   "source": [
    "print('Il y a {} observations'.format(len(df)))"
   ]
  },
  {
   "cell_type": "code",
   "execution_count": 7,
   "metadata": {},
   "outputs": [
    {
     "name": "stdout",
     "output_type": "stream",
     "text": [
      "Il y a environ 1.36% de valeurs manquantes\n"
     ]
    }
   ],
   "source": [
    "vm=round(df.isnull().sum().sum()/len(df)*100,2)\n",
    "print('Il y a environ {}% de valeurs manquantes'.format(vm))"
   ]
  },
  {
   "cell_type": "markdown",
   "metadata": {},
   "source": [
    "### 3) Réaliser l'imputation des valeurs manquantes pour la variable \"Experience\" avec : \n",
    "- la valeur médiane pour les data scientists\n",
    "- la valeur moyenne pour les data engineers\n"
   ]
  },
  {
   "cell_type": "code",
   "execution_count": 8,
   "metadata": {},
   "outputs": [
    {
     "data": {
      "text/plain": [
       "Entreprise      0.18\n",
       "Metier          0.20\n",
       "Technologies    0.00\n",
       "Diplome         0.00\n",
       "Experience      0.98\n",
       "Ville           0.00\n",
       "dtype: float64"
      ]
     },
     "execution_count": 8,
     "metadata": {},
     "output_type": "execute_result"
    }
   ],
   "source": [
    "round(df.isnull().sum()/len(df)*100,2)"
   ]
  },
  {
   "cell_type": "markdown",
   "metadata": {},
   "source": [
    "Il faut d'abord convertir le type de la variable Experience de *string* à *float*. Pour le faire, on remplace les vergules par des points:"
   ]
  },
  {
   "cell_type": "code",
   "execution_count": 9,
   "metadata": {},
   "outputs": [],
   "source": [
    "df.Experience=df.Experience.str.replace(',','.')"
   ]
  },
  {
   "cell_type": "markdown",
   "metadata": {},
   "source": [
    "Ensuite on change le type de la variable Experience de string à float pour les valeurs non manquantes:"
   ]
  },
  {
   "cell_type": "code",
   "execution_count": 11,
   "metadata": {},
   "outputs": [],
   "source": [
    "df['Experience'] = df['Experience'].astype(float)#[~df.Experience.isnull()]"
   ]
  },
  {
   "cell_type": "markdown",
   "metadata": {},
   "source": [
    "Dans la suite on va traiter les données (remplacer, suprimer des lignes). Donc il vaut mieux garder une copie (type deep) avant ce traitement."
   ]
  },
  {
   "cell_type": "code",
   "execution_count": 13,
   "metadata": {},
   "outputs": [],
   "source": [
    "df_new=df.copy()"
   ]
  },
  {
   "cell_type": "markdown",
   "metadata": {},
   "source": [
    "On crée la serie boléenne MDS pour differencier les Metiers Data Scientist"
   ]
  },
  {
   "cell_type": "code",
   "execution_count": 15,
   "metadata": {},
   "outputs": [],
   "source": [
    "DS=df_new.Metier=='Data scientist'"
   ]
  },
  {
   "cell_type": "markdown",
   "metadata": {},
   "source": [
    "On calcule la valeur médiane de L'experience pour les data scientists"
   ]
  },
  {
   "cell_type": "code",
   "execution_count": 16,
   "metadata": {},
   "outputs": [
    {
     "data": {
      "text/plain": [
       "2.0"
      ]
     },
     "execution_count": 16,
     "metadata": {},
     "output_type": "execute_result"
    }
   ],
   "source": [
    "MDS=round(df['Experience'][DS].median(),1)\n",
    "MDS"
   ]
  },
  {
   "cell_type": "markdown",
   "metadata": {},
   "source": [
    "On remplace les *NaNs* de l'experience des Data scientists par la mediane"
   ]
  },
  {
   "cell_type": "code",
   "execution_count": 18,
   "metadata": {},
   "outputs": [],
   "source": [
    "df_new.loc[DS,'Experience']=df_new.loc[DS,'Experience'].fillna(MDS)"
   ]
  },
  {
   "cell_type": "markdown",
   "metadata": {},
   "source": [
    "On fait pareil pour les Data Engineers, Lead data scientist et les Data architecte  en remlaçant la mediane par la moyenne"
   ]
  },
  {
   "cell_type": "code",
   "execution_count": 20,
   "metadata": {},
   "outputs": [],
   "source": [
    "for M in list(filter(lambda x : x != 'Data scientist', df_new.Metier.dropna().unique())):\n",
    "    #créer la serie boléenne pour differencier la Metier M\n",
    "    DM=df_new.Metier==M\n",
    "    #calculer la moyenne d'Experience correspondante\n",
    "    MM=round(df['Experience'][DM].mean(),1)\n",
    "    #Remplacer les nan\n",
    "    df_new.loc[DM,'Experience']=df_new.loc[DM,'Experience'].fillna(MM)"
   ]
  },
  {
   "cell_type": "markdown",
   "metadata": {},
   "source": [
    "On verifie qu'il ne reste plus des valeurs manquantes pour l'Experience"
   ]
  },
  {
   "cell_type": "code",
   "execution_count": 22,
   "metadata": {},
   "outputs": [
    {
     "data": {
      "text/plain": [
       "0"
      ]
     },
     "execution_count": 22,
     "metadata": {},
     "output_type": "execute_result"
    }
   ],
   "source": [
    "df_new.Experience.isnull().sum()"
   ]
  },
  {
   "cell_type": "markdown",
   "metadata": {},
   "source": [
    "Concernant la variable Metier, les valeurs manquantes ne constituent que 0.2% de la base de données. Sachant que cette variable est la plus importante (variable cible), on va simplement suprimer les observations avec Metier inconnu:"
   ]
  },
  {
   "cell_type": "code",
   "execution_count": 24,
   "metadata": {},
   "outputs": [
    {
     "data": {
      "text/plain": [
       "0"
      ]
     },
     "execution_count": 24,
     "metadata": {},
     "output_type": "execute_result"
    }
   ],
   "source": [
    "df_new.dropna(subset=['Metier'],inplace=True)\n",
    "df_new.Metier.isnull().sum()"
   ]
  },
  {
   "cell_type": "markdown",
   "metadata": {},
   "source": [
    "Lavariable Entreprise depant essentiellement de la ville et des Metiers. Donc on remlace les valeurs manquante par l'entreprise la plus connue pour chaque Ville et chaque Metier:"
   ]
  },
  {
   "cell_type": "code",
   "execution_count": 25,
   "metadata": {},
   "outputs": [],
   "source": [
    "t=df_new.groupby(['Ville','Metier']).apply(lambda x : x.Entreprise.value_counts().index[0])\n",
    "df_new['Entreprise'] = df_new.apply(\n",
    "    lambda r: t[r['Ville'],r['Metier']] if pd.isnull(r.Entreprise) else r['Entreprise'],axis=1)"
   ]
  },
  {
   "cell_type": "markdown",
   "metadata": {},
   "source": [
    "On verifie qu'il ne reste plus de valeurs manquantes pour la metier"
   ]
  },
  {
   "cell_type": "code",
   "execution_count": 26,
   "metadata": {},
   "outputs": [
    {
     "data": {
      "text/plain": [
       "0"
      ]
     },
     "execution_count": 26,
     "metadata": {},
     "output_type": "execute_result"
    }
   ],
   "source": [
    "df_new.Entreprise.isnull().sum()"
   ]
  },
  {
   "cell_type": "code",
   "execution_count": 27,
   "metadata": {},
   "outputs": [
    {
     "data": {
      "text/html": [
       "<div>\n",
       "<style scoped>\n",
       "    .dataframe tbody tr th:only-of-type {\n",
       "        vertical-align: middle;\n",
       "    }\n",
       "\n",
       "    .dataframe tbody tr th {\n",
       "        vertical-align: top;\n",
       "    }\n",
       "\n",
       "    .dataframe thead th {\n",
       "        text-align: right;\n",
       "    }\n",
       "</style>\n",
       "<table border=\"1\" class=\"dataframe\">\n",
       "  <thead>\n",
       "    <tr style=\"text-align: right;\">\n",
       "      <th></th>\n",
       "      <th>Entreprise</th>\n",
       "      <th>Metier</th>\n",
       "      <th>Technologies</th>\n",
       "      <th>Diplome</th>\n",
       "      <th>Experience</th>\n",
       "      <th>Ville</th>\n",
       "    </tr>\n",
       "  </thead>\n",
       "  <tbody>\n",
       "    <tr>\n",
       "      <th>0</th>\n",
       "      <td>Sanofi</td>\n",
       "      <td>Data scientist</td>\n",
       "      <td>Matlab/Python/Pyspark/Scikit-learn/Tensorflow</td>\n",
       "      <td>Master</td>\n",
       "      <td>1.0</td>\n",
       "      <td>Paris</td>\n",
       "    </tr>\n",
       "    <tr>\n",
       "      <th>1</th>\n",
       "      <td>Massachusetts General Hospital(MGH)</td>\n",
       "      <td>Data architecte</td>\n",
       "      <td>Python/Java/Scala/MongoDB</td>\n",
       "      <td>Master</td>\n",
       "      <td>3.0</td>\n",
       "      <td>Marseille</td>\n",
       "    </tr>\n",
       "    <tr>\n",
       "      <th>2</th>\n",
       "      <td>Delve</td>\n",
       "      <td>Lead data scientist</td>\n",
       "      <td>SPSS/SQL/Teradata/R/Python/Tensorflow/scikit-l...</td>\n",
       "      <td>Master</td>\n",
       "      <td>3.0</td>\n",
       "      <td>Nantes</td>\n",
       "    </tr>\n",
       "    <tr>\n",
       "      <th>3</th>\n",
       "      <td>Ann &amp; Robert H. Lurie Children’s Hospital of C...</td>\n",
       "      <td>Data scientist</td>\n",
       "      <td>C/C++/Java/Python</td>\n",
       "      <td>Master</td>\n",
       "      <td>1.5</td>\n",
       "      <td>Marseille</td>\n",
       "    </tr>\n",
       "    <tr>\n",
       "      <th>4</th>\n",
       "      <td>Arm</td>\n",
       "      <td>Data scientist</td>\n",
       "      <td>Matlab/Python/C++/numpy/Tensorflow/scikit-learn</td>\n",
       "      <td>Phd</td>\n",
       "      <td>2.0</td>\n",
       "      <td>Bordeaux</td>\n",
       "    </tr>\n",
       "  </tbody>\n",
       "</table>\n",
       "</div>"
      ],
      "text/plain": [
       "                                          Entreprise               Metier  \\\n",
       "0                                             Sanofi       Data scientist   \n",
       "1                Massachusetts General Hospital(MGH)      Data architecte   \n",
       "2                                              Delve  Lead data scientist   \n",
       "3  Ann & Robert H. Lurie Children’s Hospital of C...       Data scientist   \n",
       "4                                                Arm       Data scientist   \n",
       "\n",
       "                                        Technologies Diplome  Experience  \\\n",
       "0      Matlab/Python/Pyspark/Scikit-learn/Tensorflow  Master         1.0   \n",
       "1                          Python/Java/Scala/MongoDB  Master         3.0   \n",
       "2  SPSS/SQL/Teradata/R/Python/Tensorflow/scikit-l...  Master         3.0   \n",
       "3                                  C/C++/Java/Python  Master         1.5   \n",
       "4    Matlab/Python/C++/numpy/Tensorflow/scikit-learn     Phd         2.0   \n",
       "\n",
       "       Ville  \n",
       "0      Paris  \n",
       "1  Marseille  \n",
       "2     Nantes  \n",
       "3  Marseille  \n",
       "4   Bordeaux  "
      ]
     },
     "execution_count": 27,
     "metadata": {},
     "output_type": "execute_result"
    }
   ],
   "source": [
    "df_new.head()"
   ]
  },
  {
   "cell_type": "markdown",
   "metadata": {},
   "source": [
    "### 4) Combien d'années d'expériences ont, en moyenne, chacun des profils : le data scientist, le lead data scientist et le data engineer en moyenne?\n"
   ]
  },
  {
   "cell_type": "code",
   "execution_count": 28,
   "metadata": {},
   "outputs": [
    {
     "data": {
      "text/html": [
       "<div>\n",
       "<style scoped>\n",
       "    .dataframe tbody tr th:only-of-type {\n",
       "        vertical-align: middle;\n",
       "    }\n",
       "\n",
       "    .dataframe tbody tr th {\n",
       "        vertical-align: top;\n",
       "    }\n",
       "\n",
       "    .dataframe thead th {\n",
       "        text-align: right;\n",
       "    }\n",
       "</style>\n",
       "<table border=\"1\" class=\"dataframe\">\n",
       "  <thead>\n",
       "    <tr style=\"text-align: right;\">\n",
       "      <th></th>\n",
       "      <th>Experience</th>\n",
       "    </tr>\n",
       "    <tr>\n",
       "      <th>Metier</th>\n",
       "      <th></th>\n",
       "    </tr>\n",
       "  </thead>\n",
       "  <tbody>\n",
       "    <tr>\n",
       "      <th>Data architecte</th>\n",
       "      <td>3.000471</td>\n",
       "    </tr>\n",
       "    <tr>\n",
       "      <th>Data engineer</th>\n",
       "      <td>2.985087</td>\n",
       "    </tr>\n",
       "    <tr>\n",
       "      <th>Data scientist</th>\n",
       "      <td>2.241268</td>\n",
       "    </tr>\n",
       "    <tr>\n",
       "      <th>Lead data scientist</th>\n",
       "      <td>3.965798</td>\n",
       "    </tr>\n",
       "  </tbody>\n",
       "</table>\n",
       "</div>"
      ],
      "text/plain": [
       "                     Experience\n",
       "Metier                         \n",
       "Data architecte        3.000471\n",
       "Data engineer          2.985087\n",
       "Data scientist         2.241268\n",
       "Lead data scientist    3.965798"
      ]
     },
     "execution_count": 28,
     "metadata": {},
     "output_type": "execute_result"
    }
   ],
   "source": [
    "df_Metier=df_new[['Metier','Experience']].groupby(['Metier']).mean()\n",
    "df_Metier"
   ]
  },
  {
   "cell_type": "markdown",
   "metadata": {},
   "source": [
    "### 5) Comparer le nombre moyen d'années d'expériences pour chaque métier"
   ]
  },
  {
   "cell_type": "code",
   "execution_count": 29,
   "metadata": {},
   "outputs": [
    {
     "data": {
      "text/plain": [
       "<matplotlib.axes._subplots.AxesSubplot at 0x1a1ddd7828>"
      ]
     },
     "execution_count": 29,
     "metadata": {},
     "output_type": "execute_result"
    },
    {
     "data": {
      "image/png": "[encoded data removed]",
      "text/plain": [
       "<Figure size 720x360 with 1 Axes>"
      ]
     },
     "metadata": {
      "needs_background": "light"
     },
     "output_type": "display_data"
    }
   ],
   "source": [
    "plt.figure(figsize=(10,5))\n",
    "sb.barplot(x='Metier', y='Experience',data=df_new)"
   ]
  },
  {
   "cell_type": "markdown",
   "metadata": {},
   "source": [
    "### 6) Transformer la variable continue 'Experience' en une nouvelle variable catégorielle 'Exp_label' à 4 modalités: débutant, confirmé, avancé et expert  "
   ]
  },
  {
   "cell_type": "code",
   "execution_count": 31,
   "metadata": {},
   "outputs": [
    {
     "data": {
      "text/plain": [
       "<matplotlib.axes._subplots.AxesSubplot at 0x1a1e00bda0>"
      ]
     },
     "execution_count": 31,
     "metadata": {},
     "output_type": "execute_result"
    },
    {
     "data": {
      "image/png": "[encoded data removed]",
      "text/plain": [
       "<Figure size 720x360 with 1 Axes>"
      ]
     },
     "metadata": {
      "needs_background": "light"
     },
     "output_type": "display_data"
    }
   ],
   "source": [
    "plt.figure(figsize=(10,5))\n",
    "sb.distplot(df_new['Experience'], bins=40,kde=False)"
   ]
  },
  {
   "cell_type": "markdown",
   "metadata": {},
   "source": [
    "Vue la distribution des années d'experience dans la figure ci dessous, on choisit la repartition suivante:\n",
    " * $0-2$ : débutant\n",
    " * $2-5$ : confirmé\n",
    " * $5-10$ : avancé \n",
    " * $>10$ : expert"
   ]
  },
  {
   "cell_type": "code",
   "execution_count": 32,
   "metadata": {},
   "outputs": [],
   "source": [
    "def convert(x):\n",
    "    if x<2:\n",
    "        return 'debutant'\n",
    "    elif x<5:\n",
    "        return 'confirme'\n",
    "    elif x<10:\n",
    "        return 'avance'\n",
    "    else:\n",
    "        return 'expert'\n",
    "    \n",
    "df_new['Exp_label'] = df_new['Experience'].apply(convert)"
   ]
  },
  {
   "cell_type": "markdown",
   "metadata": {},
   "source": [
    "### 7) Quelles sont les 5 technologies les plus utilisées? \n",
    "\n",
    "* On commence par enlever la redondance dans la liste des technologies"
   ]
  },
  {
   "cell_type": "code",
   "execution_count": 33,
   "metadata": {},
   "outputs": [],
   "source": [
    "def preprocess(text_string):\n",
    "    parsed_text = re.sub(\" \", \"_\", text_string)#pour les technologie composés de deux mots séparés par un espace\n",
    "    parsed_text=parsed_text.lower()\n",
    "    parsed_text = re.sub(\"(?:c/c\\+\\+|c\\+\\+)\", \"c\", parsed_text)\n",
    "    parsed_text = re.sub(\"/\", \" \", parsed_text)\n",
    "    parsed_text = re.sub(\"-\", \"_\", parsed_text)#pour les technologie composés de deux mots séparés par -\n",
    "    parsed_text = re.sub(\"(?:mysql|nosql|nosq)\", \"sql\", parsed_text)\n",
    "    parsed_text = re.sub(\"(?:pyspark)\", \"spark\", parsed_text)\n",
    "    parsed_text = re.sub(\"(?:elasticsearch|kibana)\", \"elastic_kabina\", parsed_text)\n",
    "    return parsed_text\n",
    "\n",
    "\n",
    "skills=df_new.Technologies.apply(preprocess).tolist()"
   ]
  },
  {
   "cell_type": "code",
   "execution_count": 34,
   "metadata": {},
   "outputs": [],
   "source": [
    "#supprimer les doublants \n",
    "skills=[' '.join(list(dict.fromkeys(x.split(' ')))) for x in skills]"
   ]
  },
  {
   "cell_type": "markdown",
   "metadata": {},
   "source": [
    "* Realiser a bag of words pour les technologies"
   ]
  },
  {
   "cell_type": "code",
   "execution_count": 35,
   "metadata": {},
   "outputs": [
    {
     "name": "stdout",
     "output_type": "stream",
     "text": [
      "dict_keys(['matlab', 'python', 'spark', 'scikit_learn', 'tensorflow', 'java', 'scala', 'mongodb', 'spss', 'sql', 'teradata', 'r', 'c', 'numpy', 'vba', 'excel', 'linux', 'docker', 'gnu', 'hadoop', 'hive', 'mariadb', 'machine_learning', 'aws', 'deep_learning', 'postgresql', 'elastic_kabina', 'hdfs', 'yarn', 'microsoft_azure', 'redshift', 'sas', 'anglais', 'ai', 'scoring', 'perl', 'ruby', 'pycharm', 'vertica', 'tableau', 'big_data', 'kafka', 'oracle', 'cassandra', 'matplotlib', 'map_reduce', 'pig', 'hbase', 'windows'])\n",
      "(9563, 49)\n"
     ]
    }
   ],
   "source": [
    "from sklearn.feature_extraction.text import CountVectorizer\n",
    "vectorizer = CountVectorizer(analyzer = \"word\",tokenizer = None,token_pattern = r\"(?u)\\b\\w+\\b\")\n",
    "# tokenize and build vocab\n",
    "vectorizer.fit(skills)\n",
    "# summarize\n",
    "print(vectorizer.vocabulary_.keys())\n",
    "# encode document\n",
    "vector = vectorizer.transform(skills)\n",
    "# summarize encoded vector\n",
    "print(vector.shape)"
   ]
  },
  {
   "cell_type": "code",
   "execution_count": 36,
   "metadata": {},
   "outputs": [
    {
     "data": {
      "text/html": [
       "<div>\n",
       "<style scoped>\n",
       "    .dataframe tbody tr th:only-of-type {\n",
       "        vertical-align: middle;\n",
       "    }\n",
       "\n",
       "    .dataframe tbody tr th {\n",
       "        vertical-align: top;\n",
       "    }\n",
       "\n",
       "    .dataframe thead th {\n",
       "        text-align: right;\n",
       "    }\n",
       "</style>\n",
       "<table border=\"1\" class=\"dataframe\">\n",
       "  <thead>\n",
       "    <tr style=\"text-align: right;\">\n",
       "      <th></th>\n",
       "      <th>matlab</th>\n",
       "      <th>python</th>\n",
       "      <th>spark</th>\n",
       "      <th>scikit_learn</th>\n",
       "      <th>tensorflow</th>\n",
       "      <th>java</th>\n",
       "      <th>scala</th>\n",
       "      <th>mongodb</th>\n",
       "      <th>spss</th>\n",
       "      <th>sql</th>\n",
       "      <th>...</th>\n",
       "      <th>tableau</th>\n",
       "      <th>big_data</th>\n",
       "      <th>kafka</th>\n",
       "      <th>oracle</th>\n",
       "      <th>cassandra</th>\n",
       "      <th>matplotlib</th>\n",
       "      <th>map_reduce</th>\n",
       "      <th>pig</th>\n",
       "      <th>hbase</th>\n",
       "      <th>windows</th>\n",
       "    </tr>\n",
       "  </thead>\n",
       "  <tbody>\n",
       "    <tr>\n",
       "      <th>0</th>\n",
       "      <td>1</td>\n",
       "      <td>1</td>\n",
       "      <td>1</td>\n",
       "      <td>1</td>\n",
       "      <td>1</td>\n",
       "      <td>0</td>\n",
       "      <td>0</td>\n",
       "      <td>0</td>\n",
       "      <td>0</td>\n",
       "      <td>0</td>\n",
       "      <td>...</td>\n",
       "      <td>0</td>\n",
       "      <td>0</td>\n",
       "      <td>0</td>\n",
       "      <td>0</td>\n",
       "      <td>0</td>\n",
       "      <td>0</td>\n",
       "      <td>0</td>\n",
       "      <td>0</td>\n",
       "      <td>0</td>\n",
       "      <td>0</td>\n",
       "    </tr>\n",
       "    <tr>\n",
       "      <th>1</th>\n",
       "      <td>0</td>\n",
       "      <td>1</td>\n",
       "      <td>0</td>\n",
       "      <td>0</td>\n",
       "      <td>0</td>\n",
       "      <td>1</td>\n",
       "      <td>1</td>\n",
       "      <td>1</td>\n",
       "      <td>0</td>\n",
       "      <td>0</td>\n",
       "      <td>...</td>\n",
       "      <td>0</td>\n",
       "      <td>0</td>\n",
       "      <td>0</td>\n",
       "      <td>0</td>\n",
       "      <td>0</td>\n",
       "      <td>0</td>\n",
       "      <td>0</td>\n",
       "      <td>0</td>\n",
       "      <td>0</td>\n",
       "      <td>0</td>\n",
       "    </tr>\n",
       "    <tr>\n",
       "      <th>2</th>\n",
       "      <td>0</td>\n",
       "      <td>1</td>\n",
       "      <td>0</td>\n",
       "      <td>1</td>\n",
       "      <td>1</td>\n",
       "      <td>0</td>\n",
       "      <td>0</td>\n",
       "      <td>0</td>\n",
       "      <td>1</td>\n",
       "      <td>1</td>\n",
       "      <td>...</td>\n",
       "      <td>0</td>\n",
       "      <td>0</td>\n",
       "      <td>0</td>\n",
       "      <td>0</td>\n",
       "      <td>0</td>\n",
       "      <td>0</td>\n",
       "      <td>0</td>\n",
       "      <td>0</td>\n",
       "      <td>0</td>\n",
       "      <td>0</td>\n",
       "    </tr>\n",
       "    <tr>\n",
       "      <th>3</th>\n",
       "      <td>0</td>\n",
       "      <td>1</td>\n",
       "      <td>0</td>\n",
       "      <td>0</td>\n",
       "      <td>0</td>\n",
       "      <td>1</td>\n",
       "      <td>0</td>\n",
       "      <td>0</td>\n",
       "      <td>0</td>\n",
       "      <td>0</td>\n",
       "      <td>...</td>\n",
       "      <td>0</td>\n",
       "      <td>0</td>\n",
       "      <td>0</td>\n",
       "      <td>0</td>\n",
       "      <td>0</td>\n",
       "      <td>0</td>\n",
       "      <td>0</td>\n",
       "      <td>0</td>\n",
       "      <td>0</td>\n",
       "      <td>0</td>\n",
       "    </tr>\n",
       "    <tr>\n",
       "      <th>4</th>\n",
       "      <td>1</td>\n",
       "      <td>1</td>\n",
       "      <td>0</td>\n",
       "      <td>1</td>\n",
       "      <td>1</td>\n",
       "      <td>0</td>\n",
       "      <td>0</td>\n",
       "      <td>0</td>\n",
       "      <td>0</td>\n",
       "      <td>0</td>\n",
       "      <td>...</td>\n",
       "      <td>0</td>\n",
       "      <td>0</td>\n",
       "      <td>0</td>\n",
       "      <td>0</td>\n",
       "      <td>0</td>\n",
       "      <td>0</td>\n",
       "      <td>0</td>\n",
       "      <td>0</td>\n",
       "      <td>0</td>\n",
       "      <td>0</td>\n",
       "    </tr>\n",
       "  </tbody>\n",
       "</table>\n",
       "<p>5 rows × 49 columns</p>\n",
       "</div>"
      ],
      "text/plain": [
       "   matlab  python  spark  scikit_learn  tensorflow  java  scala  mongodb  \\\n",
       "0       1       1      1             1           1     0      0        0   \n",
       "1       0       1      0             0           0     1      1        1   \n",
       "2       0       1      0             1           1     0      0        0   \n",
       "3       0       1      0             0           0     1      0        0   \n",
       "4       1       1      0             1           1     0      0        0   \n",
       "\n",
       "   spss  sql  ...  tableau  big_data  kafka  oracle  cassandra  matplotlib  \\\n",
       "0     0    0  ...        0         0      0       0          0           0   \n",
       "1     0    0  ...        0         0      0       0          0           0   \n",
       "2     1    1  ...        0         0      0       0          0           0   \n",
       "3     0    0  ...        0         0      0       0          0           0   \n",
       "4     0    0  ...        0         0      0       0          0           0   \n",
       "\n",
       "   map_reduce  pig  hbase  windows  \n",
       "0           0    0      0        0  \n",
       "1           0    0      0        0  \n",
       "2           0    0      0        0  \n",
       "3           0    0      0        0  \n",
       "4           0    0      0        0  \n",
       "\n",
       "[5 rows x 49 columns]"
      ]
     },
     "execution_count": 36,
     "metadata": {},
     "output_type": "execute_result"
    }
   ],
   "source": [
    "df_skills=pd.DataFrame(vector.toarray()[:,list(vectorizer.vocabulary_.values())],\n",
    "             columns=list(vectorizer.vocabulary_.keys()))\n",
    "df_skills.head()"
   ]
  },
  {
   "cell_type": "code",
   "execution_count": 37,
   "metadata": {},
   "outputs": [
    {
     "data": {
      "text/plain": [
       "<matplotlib.axes._subplots.AxesSubplot at 0x1a1d4f0860>"
      ]
     },
     "execution_count": 37,
     "metadata": {},
     "output_type": "execute_result"
    },
    {
     "data": {
      "image/png": "[encoded data removed]",
      "text/plain": [
       "<Figure size 432x288 with 1 Axes>"
      ]
     },
     "metadata": {
      "needs_background": "light"
     },
     "output_type": "display_data"
    }
   ],
   "source": [
    "sb.barplot(x=df_skills.sum().sort_values(ascending=False).index[0:5],\n",
    "           y=df_skills.sum().sort_values(ascending=False).values[0:5])"
   ]
  },
  {
   "cell_type": "markdown",
   "metadata": {},
   "source": [
    "### 8) Réaliser une méthode de clustering non supervisée pour faire apparaître 2 clusters"
   ]
  },
  {
   "cell_type": "markdown",
   "metadata": {},
   "source": [
    "* Supprimer les colonnes Entreprise et Ville, pour pouvoire faire un clustering basé seulement sur le profil techniques"
   ]
  },
  {
   "cell_type": "code",
   "execution_count": 39,
   "metadata": {},
   "outputs": [],
   "source": [
    "df_new.Technologies=skills\n",
    "df_cat=df_new.drop(['Experience','Entreprise','Ville'],axis=1)"
   ]
  },
  {
   "cell_type": "code",
   "execution_count": 40,
   "metadata": {},
   "outputs": [],
   "source": [
    "df_cat.Metier=df_cat.Metier.str.replace(' ','_')"
   ]
  },
  {
   "cell_type": "code",
   "execution_count": 41,
   "metadata": {},
   "outputs": [
    {
     "data": {
      "text/html": [
       "<div>\n",
       "<style scoped>\n",
       "    .dataframe tbody tr th:only-of-type {\n",
       "        vertical-align: middle;\n",
       "    }\n",
       "\n",
       "    .dataframe tbody tr th {\n",
       "        vertical-align: top;\n",
       "    }\n",
       "\n",
       "    .dataframe thead th {\n",
       "        text-align: right;\n",
       "    }\n",
       "</style>\n",
       "<table border=\"1\" class=\"dataframe\">\n",
       "  <thead>\n",
       "    <tr style=\"text-align: right;\">\n",
       "      <th></th>\n",
       "      <th>Metier</th>\n",
       "      <th>Technologies</th>\n",
       "      <th>Diplome</th>\n",
       "      <th>Exp_label</th>\n",
       "    </tr>\n",
       "  </thead>\n",
       "  <tbody>\n",
       "    <tr>\n",
       "      <th>0</th>\n",
       "      <td>Data_scientist</td>\n",
       "      <td>matlab python spark scikit_learn tensorflow</td>\n",
       "      <td>Master</td>\n",
       "      <td>debutant</td>\n",
       "    </tr>\n",
       "    <tr>\n",
       "      <th>1</th>\n",
       "      <td>Data_architecte</td>\n",
       "      <td>python java scala mongodb</td>\n",
       "      <td>Master</td>\n",
       "      <td>confirme</td>\n",
       "    </tr>\n",
       "    <tr>\n",
       "      <th>2</th>\n",
       "      <td>Lead_data_scientist</td>\n",
       "      <td>spss sql teradata r python tensorflow scikit_l...</td>\n",
       "      <td>Master</td>\n",
       "      <td>confirme</td>\n",
       "    </tr>\n",
       "    <tr>\n",
       "      <th>3</th>\n",
       "      <td>Data_scientist</td>\n",
       "      <td>c java python</td>\n",
       "      <td>Master</td>\n",
       "      <td>debutant</td>\n",
       "    </tr>\n",
       "    <tr>\n",
       "      <th>4</th>\n",
       "      <td>Data_scientist</td>\n",
       "      <td>matlab python c numpy tensorflow scikit_learn</td>\n",
       "      <td>Phd</td>\n",
       "      <td>confirme</td>\n",
       "    </tr>\n",
       "  </tbody>\n",
       "</table>\n",
       "</div>"
      ],
      "text/plain": [
       "                Metier                                       Technologies  \\\n",
       "0       Data_scientist        matlab python spark scikit_learn tensorflow   \n",
       "1      Data_architecte                          python java scala mongodb   \n",
       "2  Lead_data_scientist  spss sql teradata r python tensorflow scikit_l...   \n",
       "3       Data_scientist                                      c java python   \n",
       "4       Data_scientist      matlab python c numpy tensorflow scikit_learn   \n",
       "\n",
       "  Diplome Exp_label  \n",
       "0  Master  debutant  \n",
       "1  Master  confirme  \n",
       "2  Master  confirme  \n",
       "3  Master  debutant  \n",
       "4     Phd  confirme  "
      ]
     },
     "execution_count": 41,
     "metadata": {},
     "output_type": "execute_result"
    }
   ],
   "source": [
    "df_cat.head()"
   ]
  },
  {
   "cell_type": "markdown",
   "metadata": {},
   "source": [
    "* Calculer les coefficients tf-idf "
   ]
  },
  {
   "cell_type": "code",
   "execution_count": 42,
   "metadata": {},
   "outputs": [
    {
     "data": {
      "text/plain": [
       "0    data_scientist matlab python spark scikit_lear...\n",
       "1    data_architecte python java scala mongodb mast...\n",
       "2    lead_data_scientist spss sql teradata r python...\n",
       "3         data_scientist c java python master debutant\n",
       "4    data_scientist matlab python c numpy tensorflo...\n",
       "dtype: object"
      ]
     },
     "execution_count": 42,
     "metadata": {},
     "output_type": "execute_result"
    }
   ],
   "source": [
    "def agg1(x):\n",
    "    r=''\n",
    "    for col in df_cat.columns[0:-1]:\n",
    "        r=r+x[col].lower()+' '\n",
    "    return r+x[df_cat.columns[-1]].lower()\n",
    "\n",
    "corpus=df_cat.apply(agg1,axis=1)\n",
    "corpus.head()"
   ]
  },
  {
   "cell_type": "code",
   "execution_count": 43,
   "metadata": {},
   "outputs": [
    {
     "name": "stdout",
     "output_type": "stream",
     "text": [
      "dict_keys(['data_scientist', 'matlab', 'python', 'spark', 'scikit_learn', 'tensorflow', 'master', 'debutant', 'data_architecte', 'java', 'scala', 'mongodb', 'confirme', 'lead_data_scientist', 'spss', 'sql', 'teradata', 'r', 'c', 'numpy', 'phd', 'vba', 'excel', 'avance', 'bachelor', 'linux', 'docker', 'data_engineer', 'gnu', 'hadoop', 'hive', 'mariadb', 'machine_learning', 'aws', 'deep_learning', 'postgresql', 'elastic_kabina', 'no', 'diploma', 'hdfs', 'yarn', 'microsoft_azure', 'redshift', 'sas', 'anglais', 'ai', 'scoring', 'perl', 'ruby', 'pycharm', 'vertica', 'tableau', 'big_data', 'kafka', 'oracle', 'cassandra', 'expert', 'matplotlib', 'map_reduce', 'pig', 'hbase', 'windows'])\n",
      "(9563, 62)\n"
     ]
    }
   ],
   "source": [
    "tfidfvect= TfidfVectorizer(analyzer = \"word\",tokenizer = None,token_pattern = r\"(?u)\\b\\w+\\b\")\n",
    "# tokenize and build vocab\n",
    "vect =tfidfvect.fit_transform(corpus)\n",
    "# summarize\n",
    "print(tfidfvect.vocabulary_.keys())\n",
    "print(vect.shape)"
   ]
  },
  {
   "cell_type": "code",
   "execution_count": 44,
   "metadata": {},
   "outputs": [
    {
     "data": {
      "text/html": [
       "<div>\n",
       "<style scoped>\n",
       "    .dataframe tbody tr th:only-of-type {\n",
       "        vertical-align: middle;\n",
       "    }\n",
       "\n",
       "    .dataframe tbody tr th {\n",
       "        vertical-align: top;\n",
       "    }\n",
       "\n",
       "    .dataframe thead th {\n",
       "        text-align: right;\n",
       "    }\n",
       "</style>\n",
       "<table border=\"1\" class=\"dataframe\">\n",
       "  <thead>\n",
       "    <tr style=\"text-align: right;\">\n",
       "      <th></th>\n",
       "      <th>data_scientist</th>\n",
       "      <th>matlab</th>\n",
       "      <th>python</th>\n",
       "      <th>spark</th>\n",
       "      <th>scikit_learn</th>\n",
       "      <th>tensorflow</th>\n",
       "      <th>master</th>\n",
       "      <th>debutant</th>\n",
       "      <th>data_architecte</th>\n",
       "      <th>java</th>\n",
       "      <th>...</th>\n",
       "      <th>big_data</th>\n",
       "      <th>kafka</th>\n",
       "      <th>oracle</th>\n",
       "      <th>cassandra</th>\n",
       "      <th>expert</th>\n",
       "      <th>matplotlib</th>\n",
       "      <th>map_reduce</th>\n",
       "      <th>pig</th>\n",
       "      <th>hbase</th>\n",
       "      <th>windows</th>\n",
       "    </tr>\n",
       "  </thead>\n",
       "  <tbody>\n",
       "    <tr>\n",
       "      <th>0</th>\n",
       "      <td>0.257077</td>\n",
       "      <td>0.458112</td>\n",
       "      <td>0.184664</td>\n",
       "      <td>0.371197</td>\n",
       "      <td>0.471450</td>\n",
       "      <td>0.461722</td>\n",
       "      <td>0.223409</td>\n",
       "      <td>0.258444</td>\n",
       "      <td>0.000000</td>\n",
       "      <td>0.000000</td>\n",
       "      <td>...</td>\n",
       "      <td>0.0</td>\n",
       "      <td>0.0</td>\n",
       "      <td>0.0</td>\n",
       "      <td>0.0</td>\n",
       "      <td>0.0</td>\n",
       "      <td>0.0</td>\n",
       "      <td>0.0</td>\n",
       "      <td>0.0</td>\n",
       "      <td>0.0</td>\n",
       "      <td>0.0</td>\n",
       "    </tr>\n",
       "    <tr>\n",
       "      <th>1</th>\n",
       "      <td>0.000000</td>\n",
       "      <td>0.000000</td>\n",
       "      <td>0.191953</td>\n",
       "      <td>0.000000</td>\n",
       "      <td>0.000000</td>\n",
       "      <td>0.000000</td>\n",
       "      <td>0.232228</td>\n",
       "      <td>0.000000</td>\n",
       "      <td>0.351204</td>\n",
       "      <td>0.380868</td>\n",
       "      <td>...</td>\n",
       "      <td>0.0</td>\n",
       "      <td>0.0</td>\n",
       "      <td>0.0</td>\n",
       "      <td>0.0</td>\n",
       "      <td>0.0</td>\n",
       "      <td>0.0</td>\n",
       "      <td>0.0</td>\n",
       "      <td>0.0</td>\n",
       "      <td>0.0</td>\n",
       "      <td>0.0</td>\n",
       "    </tr>\n",
       "    <tr>\n",
       "      <th>2</th>\n",
       "      <td>0.000000</td>\n",
       "      <td>0.000000</td>\n",
       "      <td>0.151361</td>\n",
       "      <td>0.000000</td>\n",
       "      <td>0.386428</td>\n",
       "      <td>0.378454</td>\n",
       "      <td>0.183119</td>\n",
       "      <td>0.000000</td>\n",
       "      <td>0.000000</td>\n",
       "      <td>0.000000</td>\n",
       "      <td>...</td>\n",
       "      <td>0.0</td>\n",
       "      <td>0.0</td>\n",
       "      <td>0.0</td>\n",
       "      <td>0.0</td>\n",
       "      <td>0.0</td>\n",
       "      <td>0.0</td>\n",
       "      <td>0.0</td>\n",
       "      <td>0.0</td>\n",
       "      <td>0.0</td>\n",
       "      <td>0.0</td>\n",
       "    </tr>\n",
       "    <tr>\n",
       "      <th>3</th>\n",
       "      <td>0.360663</td>\n",
       "      <td>0.000000</td>\n",
       "      <td>0.259073</td>\n",
       "      <td>0.000000</td>\n",
       "      <td>0.000000</td>\n",
       "      <td>0.000000</td>\n",
       "      <td>0.313430</td>\n",
       "      <td>0.362582</td>\n",
       "      <td>0.000000</td>\n",
       "      <td>0.514044</td>\n",
       "      <td>...</td>\n",
       "      <td>0.0</td>\n",
       "      <td>0.0</td>\n",
       "      <td>0.0</td>\n",
       "      <td>0.0</td>\n",
       "      <td>0.0</td>\n",
       "      <td>0.0</td>\n",
       "      <td>0.0</td>\n",
       "      <td>0.0</td>\n",
       "      <td>0.0</td>\n",
       "      <td>0.0</td>\n",
       "    </tr>\n",
       "    <tr>\n",
       "      <th>4</th>\n",
       "      <td>0.205320</td>\n",
       "      <td>0.365881</td>\n",
       "      <td>0.147486</td>\n",
       "      <td>0.000000</td>\n",
       "      <td>0.376534</td>\n",
       "      <td>0.368764</td>\n",
       "      <td>0.000000</td>\n",
       "      <td>0.000000</td>\n",
       "      <td>0.000000</td>\n",
       "      <td>0.000000</td>\n",
       "      <td>...</td>\n",
       "      <td>0.0</td>\n",
       "      <td>0.0</td>\n",
       "      <td>0.0</td>\n",
       "      <td>0.0</td>\n",
       "      <td>0.0</td>\n",
       "      <td>0.0</td>\n",
       "      <td>0.0</td>\n",
       "      <td>0.0</td>\n",
       "      <td>0.0</td>\n",
       "      <td>0.0</td>\n",
       "    </tr>\n",
       "  </tbody>\n",
       "</table>\n",
       "<p>5 rows × 62 columns</p>\n",
       "</div>"
      ],
      "text/plain": [
       "   data_scientist    matlab    python     spark  scikit_learn  tensorflow  \\\n",
       "0        0.257077  0.458112  0.184664  0.371197      0.471450    0.461722   \n",
       "1        0.000000  0.000000  0.191953  0.000000      0.000000    0.000000   \n",
       "2        0.000000  0.000000  0.151361  0.000000      0.386428    0.378454   \n",
       "3        0.360663  0.000000  0.259073  0.000000      0.000000    0.000000   \n",
       "4        0.205320  0.365881  0.147486  0.000000      0.376534    0.368764   \n",
       "\n",
       "     master  debutant  data_architecte      java  ...  big_data  kafka  \\\n",
       "0  0.223409  0.258444         0.000000  0.000000  ...       0.0    0.0   \n",
       "1  0.232228  0.000000         0.351204  0.380868  ...       0.0    0.0   \n",
       "2  0.183119  0.000000         0.000000  0.000000  ...       0.0    0.0   \n",
       "3  0.313430  0.362582         0.000000  0.514044  ...       0.0    0.0   \n",
       "4  0.000000  0.000000         0.000000  0.000000  ...       0.0    0.0   \n",
       "\n",
       "   oracle  cassandra  expert  matplotlib  map_reduce  pig  hbase  windows  \n",
       "0     0.0        0.0     0.0         0.0         0.0  0.0    0.0      0.0  \n",
       "1     0.0        0.0     0.0         0.0         0.0  0.0    0.0      0.0  \n",
       "2     0.0        0.0     0.0         0.0         0.0  0.0    0.0      0.0  \n",
       "3     0.0        0.0     0.0         0.0         0.0  0.0    0.0      0.0  \n",
       "4     0.0        0.0     0.0         0.0         0.0  0.0    0.0      0.0  \n",
       "\n",
       "[5 rows x 62 columns]"
      ]
     },
     "execution_count": 44,
     "metadata": {},
     "output_type": "execute_result"
    }
   ],
   "source": [
    "df_corpus=pd.DataFrame(vect.toarray()[:,list(tfidfvect.vocabulary_.values())],\n",
    "             columns=list(tfidfvect.vocabulary_.keys()))\n",
    "df_corpus.head()"
   ]
  },
  {
   "cell_type": "code",
   "execution_count": 45,
   "metadata": {},
   "outputs": [],
   "source": [
    "kmeans = KMeans(n_clusters=2, random_state=0).fit(vect)"
   ]
  },
  {
   "cell_type": "code",
   "execution_count": 46,
   "metadata": {},
   "outputs": [
    {
     "data": {
      "text/plain": [
       "Text(0.5, 1.0, 'Le nombre de occurence chaque metier pour chaque classe')"
      ]
     },
     "execution_count": 46,
     "metadata": {},
     "output_type": "execute_result"
    },
    {
     "data": {
      "image/png": "[encoded data removed]",
      "text/plain": [
       "<Figure size 864x360 with 1 Axes>"
      ]
     },
     "metadata": {
      "needs_background": "light"
     },
     "output_type": "display_data"
    }
   ],
   "source": [
    "labels=kmeans.labels_\n",
    "\n",
    "plt.figure(figsize=(12,5))\n",
    "df_cat_class=df_cat.copy()\n",
    "df_cat_class['class']=labels\n",
    "sb.countplot(x=\"Metier\", hue=\"class\", data=df_cat_class)\n",
    "plt.title('Le nombre de occurence chaque metier pour chaque classe',color='b')"
   ]
  },
  {
   "cell_type": "code",
   "execution_count": 47,
   "metadata": {},
   "outputs": [
    {
     "data": {
      "text/plain": [
       "Text(0.5, 1.0, 'Classe 1')"
      ]
     },
     "execution_count": 47,
     "metadata": {},
     "output_type": "execute_result"
    },
    {
     "data": {
      "image/png": "[encoded data removed]",
      "text/plain": [
       "<Figure size 1008x360 with 2 Axes>"
      ]
     },
     "metadata": {
      "needs_background": "light"
     },
     "output_type": "display_data"
    }
   ],
   "source": [
    "fig, ax = plt.subplots(1,2,figsize=(14,5))\n",
    "fig.suptitle('Les Technologies les plus importantes selon la classe',fontsize = 16,color='b')\n",
    "\n",
    "sb.barplot(x=df_corpus[df_skills.columns].loc[labels==0].sum().sort_values(ascending=False).index[0:5],\n",
    "           y=df_corpus[df_skills.columns].loc[labels==0].sum().sort_values(ascending=False).values[0:5],ax=ax[0])\n",
    "ax[0].set_title('Classe 0',color='r')\n",
    "\n",
    "sb.barplot(x=df_corpus[df_skills.columns].loc[labels==1].sum().sort_values(ascending=False).index[0:5],\n",
    "           y=df_corpus[df_skills.columns].loc[labels==1].sum().sort_values(ascending=False).values[0:5],ax=ax[1])\n",
    "ax[1].set_title('Classe 1',color='r')"
   ]
  },
  {
   "cell_type": "markdown",
   "metadata": {},
   "source": [
    "On remarque que les data_scientists et lead_data_scientists forment une classe telque les technologies les plus importantes sont les suivant: R, Python, Sql, Excel et Machine learning.\n",
    "La 2éme classe est constituée par les data_architectes et les data_engineers telque Java, Linux, mongodb, python et hadoop sont les technologies les plus importantes."
   ]
  },
  {
   "cell_type": "code",
   "execution_count": null,
   "metadata": {},
   "outputs": [],
   "source": []
  }
 ],
 "metadata": {
  "kernelspec": {
   "display_name": "Python 3",
   "language": "python",
   "name": "python3"
  },
  "language_info": {
   "codemirror_mode": {
    "name": "ipython",
    "version": 3
   },
   "file_extension": ".py",
   "mimetype": "text/x-python",
   "name": "python",
   "nbconvert_exporter": "python",
   "pygments_lexer": "ipython3",
   "version": "3.7.3"
  }
 },
 "nbformat": 4,
 "nbformat_minor": 2
}
